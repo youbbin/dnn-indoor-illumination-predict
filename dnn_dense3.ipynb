{
 "cells": [
  {
   "cell_type": "markdown",
   "id": "56671d24",
   "metadata": {},
   "source": [
    "# 데이터 준비"
   ]
  },
  {
   "cell_type": "code",
   "execution_count": 9,
   "id": "3bb8b657",
   "metadata": {},
   "outputs": [],
   "source": [
    "import pandas as pd\n",
    "\n",
    "df = pd.read_excel('data/train_data.xlsx',sheet_name = 'train_data_비오는날제거')"
   ]
  },
  {
   "cell_type": "code",
   "execution_count": 10,
   "id": "fcc5ba58",
   "metadata": {},
   "outputs": [
    {
     "name": "stdout",
     "output_type": "stream",
     "text": [
      "[[ 69.21  67.49  74.46  77.35  22.05]\n",
      " [ 69.21  67.49  74.46  77.32  22.08]\n",
      " [ 70.07  67.49  74.46  77.29  22.11]\n",
      " ...\n",
      " [ 21.86  17.66  18.04 112.79   8.68]\n",
      " [ 23.58  18.52  19.68 112.92   8.5 ]\n",
      " [ 24.44  19.38  20.5  113.06   8.32]]\n"
     ]
    }
   ],
   "source": [
    "input_data = (df[['illum1','illum2','illum3','azimuth_180_diff','elevation']]).to_numpy()\n",
    "print(input_data)"
   ]
  },
  {
   "cell_type": "code",
   "execution_count": 11,
   "id": "cd8606a1",
   "metadata": {},
   "outputs": [],
   "source": [
    "target_data = (df[['illum4','illum5','illum6','illum7','illum8','illum9']]).to_numpy()"
   ]
  },
  {
   "cell_type": "code",
   "execution_count": 12,
   "id": "e703e681",
   "metadata": {},
   "outputs": [],
   "source": [
    "from sklearn.preprocessing import MinMaxScaler\n",
    "scaler = MinMaxScaler()\n",
    "scaler.fit(input_data)\n",
    "normalized_features = scaler.transform(input_data)"
   ]
  },
  {
   "cell_type": "markdown",
   "id": "0551a689",
   "metadata": {},
   "source": [
    "# 모델 생성"
   ]
  },
  {
   "cell_type": "code",
   "execution_count": 13,
   "id": "a4058fb9",
   "metadata": {},
   "outputs": [],
   "source": [
    "from tensorflow import keras\n",
    "from tensorflow.keras.wrappers.scikit_learn import KerasRegressor\n",
    "\n",
    "def create_model(optimizer = 'adam'):\n",
    "    model = keras.Sequential()\n",
    "    model.add(keras.layers.Dense(64, activation='relu', input_shape=(5,)))\n",
    "    model.add(keras.layers.Dense(64, activation='relu'))\n",
    "    model.add(keras.layers.Dense(6, activation='relu'))\n",
    "    model.compile(optimizer = optimizer,loss='mae',metrics='accuracy')\n",
    "    model.summary()\n",
    "    return model"
   ]
  },
  {
   "cell_type": "code",
   "execution_count": 14,
   "id": "e5a94099",
   "metadata": {},
   "outputs": [
    {
     "name": "stdout",
     "output_type": "stream",
     "text": [
      "Model: \"sequential_1\"\n",
      "_________________________________________________________________\n",
      " Layer (type)                Output Shape              Param #   \n",
      "=================================================================\n",
      " dense_3 (Dense)             (None, 64)                384       \n",
      "                                                                 \n",
      " dense_4 (Dense)             (None, 64)                4160      \n",
      "                                                                 \n",
      " dense_5 (Dense)             (None, 6)                 390       \n",
      "                                                                 \n",
      "=================================================================\n",
      "Total params: 4,934\n",
      "Trainable params: 4,934\n",
      "Non-trainable params: 0\n",
      "_________________________________________________________________\n"
     ]
    }
   ],
   "source": [
    "# model = KerasRegressor(build_fn=create_model, verbose=0)\n",
    "model = create_model()"
   ]
  },
  {
   "cell_type": "code",
   "execution_count": 15,
   "id": "8aa65c09",
   "metadata": {},
   "outputs": [],
   "source": [
    "# param_grid = {\n",
    "#     'batch_size': [32, 64],\n",
    "#     'epochs': [100, 200],\n",
    "#     'optimizer': ['adam', 'rmsprop']\n",
    "# }"
   ]
  },
  {
   "cell_type": "code",
   "execution_count": 16,
   "id": "01e43980",
   "metadata": {},
   "outputs": [],
   "source": [
    "from sklearn.model_selection import GridSearchCV\n",
    "from tensorflow.keras.callbacks import EarlyStopping\n",
    "from tensorflow.keras.callbacks import ModelCheckpoint\n",
    "\n",
    "# 그리드서치\n",
    "# grid_search = GridSearchCV(estimator=model, param_grid=param_grid, cv=3)\n",
    "\n",
    "# 조기 종료\n",
    "early_stopping_cb = keras.callbacks.EarlyStopping(patience =10, restore_best_weights =True, monitor = 'val_loss')\n",
    "checkpoint_cb = ModelCheckpoint(\"best_model_dense3.h5\", monitor='val_loss', save_best_only=True, mode='min')"
   ]
  },
  {
   "cell_type": "code",
   "execution_count": 17,
   "id": "85c034dc",
   "metadata": {},
   "outputs": [],
   "source": [
    "x_train = normalized_features\n",
    "y_train = target_data\n",
    "validation_split = 0.2  # Adjust the validation split ratio as per your preference\n",
    "validation_size = int(len(x_train) * validation_split)\n",
    "x_val = x_train[-validation_size:]\n",
    "y_val = y_train[-validation_size:]\n",
    "x_train = x_train[:-validation_size]\n",
    "y_train = y_train[:-validation_size]"
   ]
  },
  {
   "cell_type": "markdown",
   "id": "9b9ee833",
   "metadata": {},
   "source": [
    "# 모델 훈련"
   ]
  },
  {
   "cell_type": "code",
   "execution_count": 18,
   "id": "fe11c235",
   "metadata": {},
   "outputs": [
    {
     "name": "stdout",
     "output_type": "stream",
     "text": [
      "Epoch 1/100\n",
      "10976/10976 [==============================] - 13s 1ms/step - loss: 4.7450 - accuracy: 0.9518 - val_loss: 2.4678 - val_accuracy: 0.9322\n",
      "Epoch 2/100\n",
      "10976/10976 [==============================] - 12s 1ms/step - loss: 2.7755 - accuracy: 0.9785 - val_loss: 2.9170 - val_accuracy: 0.9267\n",
      "Epoch 3/100\n",
      "10976/10976 [==============================] - 12s 1ms/step - loss: 2.6135 - accuracy: 0.9878 - val_loss: 2.9667 - val_accuracy: 0.9264\n",
      "Epoch 4/100\n",
      "10976/10976 [==============================] - 12s 1ms/step - loss: 2.4408 - accuracy: 0.9890 - val_loss: 2.4320 - val_accuracy: 0.9112\n",
      "Epoch 5/100\n",
      "10976/10976 [==============================] - 12s 1ms/step - loss: 2.2209 - accuracy: 0.9851 - val_loss: 2.2286 - val_accuracy: 0.9400\n",
      "Epoch 6/100\n",
      "10976/10976 [==============================] - 12s 1ms/step - loss: 2.1014 - accuracy: 0.9861 - val_loss: 2.4286 - val_accuracy: 0.8910\n",
      "Epoch 7/100\n",
      "10976/10976 [==============================] - 12s 1ms/step - loss: 2.0437 - accuracy: 0.9879 - val_loss: 2.3149 - val_accuracy: 0.9400\n",
      "Epoch 8/100\n",
      "10976/10976 [==============================] - 12s 1ms/step - loss: 2.0029 - accuracy: 0.9880 - val_loss: 2.2136 - val_accuracy: 0.9400\n",
      "Epoch 9/100\n",
      "10976/10976 [==============================] - 12s 1ms/step - loss: 1.9604 - accuracy: 0.9874 - val_loss: 2.3204 - val_accuracy: 0.9400\n",
      "Epoch 10/100\n",
      "10976/10976 [==============================] - 12s 1ms/step - loss: 1.9120 - accuracy: 0.9882 - val_loss: 2.2647 - val_accuracy: 0.9400\n",
      "Epoch 11/100\n",
      "10976/10976 [==============================] - 12s 1ms/step - loss: 1.8584 - accuracy: 0.9884 - val_loss: 2.2942 - val_accuracy: 0.9400\n",
      "Epoch 12/100\n",
      "10976/10976 [==============================] - 12s 1ms/step - loss: 1.8152 - accuracy: 0.9881 - val_loss: 2.2196 - val_accuracy: 0.9400\n",
      "Epoch 13/100\n",
      "10976/10976 [==============================] - 12s 1ms/step - loss: 1.7447 - accuracy: 0.9884 - val_loss: 2.2809 - val_accuracy: 0.9400\n",
      "Epoch 14/100\n",
      "10976/10976 [==============================] - 12s 1ms/step - loss: 1.6844 - accuracy: 0.9879 - val_loss: 2.3824 - val_accuracy: 0.9400\n",
      "Epoch 15/100\n",
      "10976/10976 [==============================] - 12s 1ms/step - loss: 1.6437 - accuracy: 0.9870 - val_loss: 2.4608 - val_accuracy: 0.9391\n",
      "Epoch 16/100\n",
      "10976/10976 [==============================] - 12s 1ms/step - loss: 1.5931 - accuracy: 0.9863 - val_loss: 2.8131 - val_accuracy: 0.9400\n",
      "Epoch 17/100\n",
      "10976/10976 [==============================] - 12s 1ms/step - loss: 1.5565 - accuracy: 0.9878 - val_loss: 2.7442 - val_accuracy: 0.9400\n",
      "Epoch 18/100\n",
      "10976/10976 [==============================] - 12s 1ms/step - loss: 1.5206 - accuracy: 0.9875 - val_loss: 2.7998 - val_accuracy: 0.8990\n"
     ]
    }
   ],
   "source": [
    "# grid_search.fit(x_train, y_train, callbacks=[early_stopping_cb,checkpoint_cb],validation_data=(x_val, y_val))\n",
    "\n",
    "# print(\"최적의 하이퍼파라미터: \", grid_search.best_params_)\n",
    "# print(\"최고 점수: \", grid_search.best_score_)\n",
    "# best_model = grid_search.best_estimator_\n",
    "# best_model.save(\"sensoless_illum123_az_el_best_model.h5\")\n",
    "\n",
    "\n",
    "history = model.fit(x_train, y_train, epochs=100, batch_size=2, validation_data = (x_val, y_val), callbacks=[early_stopping_cb,checkpoint_cb])\n",
    "# history = model.fit(x_train, y_train, epochs=100, batch_size=4)"
   ]
  },
  {
   "cell_type": "code",
   "execution_count": 19,
   "id": "48285dea",
   "metadata": {},
   "outputs": [],
   "source": [
    "model.save(\"sensorless_dnn_dense3.h5\")"
   ]
  },
  {
   "cell_type": "code",
   "execution_count": 25,
   "id": "ea8434de",
   "metadata": {},
   "outputs": [
    {
     "name": "stdout",
     "output_type": "stream",
     "text": [
      "135/135 [==============================] - 0s 696us/step\n",
      "RMSE: 3\n",
      "r2:0.9972\n",
      "MAE:2\n"
     ]
    }
   ],
   "source": [
    "df_0412 = pd.read_excel('data/train_data.xlsx',sheet_name = 'test_data_0412')\n",
    "input_0412 = (df_0412[['illum1','illum2','illum3','azimuth_180_diff','elevation']]).to_numpy()\n",
    "output_0412 = (df_0412[['illum4','illum5','illum6','illum7','illum8','illum9']]).to_numpy()\n",
    "datetime_0412 = (df_0412[['Datetime']])\n",
    "normalized_features = scaler.transform(input_0412)\n",
    "predict=model.predict(normalized_features)\n",
    "\n",
    "import numpy as np\n",
    "from sklearn.metrics import r2_score, mean_squared_error\n",
    "from sklearn.metrics import mean_absolute_error\n",
    "RMSE = np.sqrt(mean_squared_error(output_0412, predict))\n",
    "r2 = r2_score(output_0412, predict)\n",
    "print(f'RMSE: {RMSE:.0f}')\n",
    "print(f'r2:{r2:.4f}')\n",
    "MAE = mean_absolute_error(output_0412, predict)\n",
    "print(f'MAE:{MAE:.0f}')"
   ]
  },
  {
   "cell_type": "code",
   "execution_count": 26,
   "id": "db966235",
   "metadata": {},
   "outputs": [
    {
     "data": {
      "image/png": "[encoded data removed]",
      "text/plain": [
       "<Figure size 640x480 with 1 Axes>"
      ]
     },
     "metadata": {},
     "output_type": "display_data"
    }
   ],
   "source": [
    "\n",
    "import matplotlib.pyplot as plt\n",
    "measured_illum4 = output_0412[:, 0]  # Extracting zone 4 illuminance\n",
    "predicted_illum4 = predict[:, 0]  # Extracting zone 4 illuminance predictions\n",
    "x = range(len(measured_illum4))\n",
    "import matplotlib.pyplot as plt\n",
    "\n",
    "# Assuming 'output_0412' contains the measured illuminance values of zone 4\n",
    "measured_illum4 = output_0412[:, 0]  # Extracting zone 4 illuminance\n",
    "\n",
    "# Assuming 'predict' contains the predicted illuminance values\n",
    "predicted_illum4 = predict[:, 0]  # Extracting zone 4 illuminance predictions\n",
    "\n",
    "# Create x-axis values (e.g., indices or any other appropriate values)\n",
    "x = range(len(measured_illum4))\n",
    "\n",
    "# Plot measured and predicted illuminance of zone 4\n",
    "plt.plot(x, measured_illum4, label='Measured Illuminance')\n",
    "plt.plot(x, predicted_illum4, label='Predicted Illuminance')\n",
    "\n",
    "# Add labels and title to the plot\n",
    "plt.xlabel('Sample Index')\n",
    "plt.ylabel('Illuminance of Zone 4')\n",
    "plt.title('Measured vs. Predicted Illuminance of Zone 4')\n",
    "\n",
    "# Add legend\n",
    "plt.legend()\n",
    "\n",
    "# Display the plot\n",
    "plt.show()\n"
   ]
  },
  {
   "cell_type": "code",
   "execution_count": 27,
   "id": "582f1a6b",
   "metadata": {},
   "outputs": [
    {
     "name": "stdout",
     "output_type": "stream",
     "text": [
      "RMSE: 5\n",
      "r2:0.9972\n",
      "MAE:2\n"
     ]
    }
   ],
   "source": [
    "RMSE = np.sqrt(mean_squared_error(measured_illum4, predicted_illum4))\n",
    "r2 = r2_score(output_0412, predict)\n",
    "print(f'RMSE: {RMSE:.0f}')\n",
    "print(f'r2:{r2:.4f}')\n",
    "MAE = mean_absolute_error(output_0412, predict)\n",
    "print(f'MAE:{MAE:.0f}')"
   ]
  },
  {
   "cell_type": "code",
   "execution_count": 23,
   "id": "98201ad1",
   "metadata": {},
   "outputs": [],
   "source": [
    "# df_predict = pd.DataFrame(predict)\n",
    "# df_illum = pd.DataFrame(output_0412)\n",
    "# result = pd.concat([datetime,df_predict,df_illum], axis = 1)\n",
    "# result.to_csv(\"data/0412_dnn_result.csv\")"
   ]
  },
  {
   "cell_type": "code",
   "execution_count": 28,
   "id": "ab900e6a",
   "metadata": {},
   "outputs": [
    {
     "name": "stdout",
     "output_type": "stream",
     "text": [
      "----P 4 ----\n",
      "RMSE: 5\n",
      "r2:0.9942\n",
      "MAE:4\n",
      "----P 5 ----\n",
      "RMSE: 5\n",
      "r2:0.9994\n",
      "MAE:1\n",
      "----P 6 ----\n",
      "RMSE: 5\n",
      "r2:0.9996\n",
      "MAE:1\n",
      "----P 7 ----\n",
      "RMSE: 5\n",
      "r2:0.9945\n",
      "MAE:3\n",
      "----P 8 ----\n",
      "RMSE: 5\n",
      "r2:0.9974\n",
      "MAE:2\n",
      "----P 9 ----\n",
      "RMSE: 5\n",
      "r2:0.9982\n",
      "MAE:1\n"
     ]
    }
   ],
   "source": [
    "for i in range(6):\n",
    "    RMSE = np.sqrt(mean_squared_error(measured_illum4, predicted_illum4))\n",
    "    r2 = r2_score(output_0412[:, i], predict[:, i])\n",
    "    print(\"----P\",(i+4),\"----\")\n",
    "    print(f'RMSE: {RMSE:.0f}')\n",
    "    print(f'r2:{r2:.4f}')\n",
    "    MAE = mean_absolute_error(output_0412[:, i], predict[:, i])\n",
    "    print(f'MAE:{MAE:.0f}')"
   ]
  }
 ],
 "metadata": {
  "kernelspec": {
   "display_name": "Python 3 (ipykernel)",
   "language": "python",
   "name": "python3"
  },
  "language_info": {
   "codemirror_mode": {
    "name": "ipython",
    "version": 3
   },
   "file_extension": ".py",
   "mimetype": "text/x-python",
   "name": "python",
   "nbconvert_exporter": "python",
   "pygments_lexer": "ipython3",
   "version": "3.10.9"
  }
 },
 "nbformat": 4,
 "nbformat_minor": 5
}
